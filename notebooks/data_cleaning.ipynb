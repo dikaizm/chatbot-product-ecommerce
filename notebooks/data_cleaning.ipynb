{
 "cells": [
  {
   "cell_type": "code",
   "execution_count": 3,
   "id": "dabcd43e",
   "metadata": {},
   "outputs": [],
   "source": [
    "# import kagglehub\n",
    "\n",
    "# # Download latest version\n",
    "# path = kagglehub.dataset_download(\"adirizq/shopee-product-images\")\n",
    "# print(\"Path to dataset files:\", path)"
   ]
  },
  {
   "cell_type": "code",
   "execution_count": 4,
   "id": "e413821c",
   "metadata": {},
   "outputs": [
    {
     "name": "stdout",
     "output_type": "stream",
     "text": [
      "data_products_id_small.csv           data_products_id_tiny_with_desc.csv\n",
      "data_products_id_tiny.csv            \u001b[34mimages\u001b[m\u001b[m/\n"
     ]
    }
   ],
   "source": [
    "%ls ../data"
   ]
  },
  {
   "cell_type": "code",
   "execution_count": 5,
   "id": "44e19607",
   "metadata": {},
   "outputs": [
    {
     "name": "stdout",
     "output_type": "stream",
     "text": [
      "<class 'pandas.core.frame.DataFrame'>\n",
      "RangeIndex: 31931 entries, 0 to 31930\n",
      "Data columns (total 7 columns):\n",
      " #   Column         Non-Null Count  Dtype \n",
      "---  ------         --------------  ----- \n",
      " 0   product_id     31931 non-null  int64 \n",
      " 1   image          31931 non-null  object\n",
      " 2   name           31931 non-null  object\n",
      " 3   shop_name      31931 non-null  object\n",
      " 4   shopid         31931 non-null  int64 \n",
      " 5   main_category  31931 non-null  object\n",
      " 6   sub_category   31931 non-null  object\n",
      "dtypes: int64(2), object(5)\n",
      "memory usage: 1.7+ MB\n"
     ]
    }
   ],
   "source": [
    "import pandas as pd\n",
    "\n",
    "data_path = \"../data\"\n",
    "\n",
    "product_df = pd.read_csv(f\"{data_path}/data_products_id_tiny.csv\")\n",
    "product_df.info()"
   ]
  },
  {
   "cell_type": "code",
   "execution_count": 6,
   "id": "1597c445",
   "metadata": {},
   "outputs": [
    {
     "data": {
      "text/plain": [
       "np.int64(0)"
      ]
     },
     "execution_count": 6,
     "metadata": {},
     "output_type": "execute_result"
    }
   ],
   "source": [
    "product_df.duplicated().sum()"
   ]
  },
  {
   "cell_type": "code",
   "execution_count": 7,
   "id": "75bbe7e7",
   "metadata": {},
   "outputs": [
    {
     "data": {
      "application/vnd.microsoft.datawrangler.viewer.v0+json": {
       "columns": [
        {
         "name": "index",
         "rawType": "object",
         "type": "string"
        },
        {
         "name": "0",
         "rawType": "int64",
         "type": "integer"
        }
       ],
       "ref": "26c33dd4-28c3-4e60-a991-8a3fc896b7c9",
       "rows": [
        [
         "product_id",
         "0"
        ],
        [
         "image",
         "0"
        ],
        [
         "name",
         "0"
        ],
        [
         "shop_name",
         "0"
        ],
        [
         "shopid",
         "0"
        ],
        [
         "main_category",
         "0"
        ],
        [
         "sub_category",
         "0"
        ]
       ],
       "shape": {
        "columns": 1,
        "rows": 7
       }
      },
      "text/plain": [
       "product_id       0\n",
       "image            0\n",
       "name             0\n",
       "shop_name        0\n",
       "shopid           0\n",
       "main_category    0\n",
       "sub_category     0\n",
       "dtype: int64"
      ]
     },
     "execution_count": 7,
     "metadata": {},
     "output_type": "execute_result"
    }
   ],
   "source": [
    "product_df.isna().sum()"
   ]
  },
  {
   "cell_type": "code",
   "execution_count": 8,
   "id": "64737328",
   "metadata": {},
   "outputs": [
    {
     "data": {
      "application/vnd.microsoft.datawrangler.viewer.v0+json": {
       "columns": [
        {
         "name": "main_category",
         "rawType": "object",
         "type": "string"
        },
        {
         "name": "count",
         "rawType": "int64",
         "type": "integer"
        }
       ],
       "ref": "a1719e11-e19c-4f97-af21-f5151adae581",
       "rows": [
        [
         "Olahraga & Outdoor",
         "2825"
        ],
        [
         "Elektronik",
         "2597"
        ],
        [
         "Perawatan & Kecantikan",
         "2100"
        ],
        [
         "Aksesoris Fashion",
         "1800"
        ],
        [
         "Perlengkapan Rumah",
         "1800"
        ],
        [
         "Komputer & Aksesoris",
         "1500"
        ],
        [
         "Ibu & Bayi",
         "1500"
        ],
        [
         "Buku & Alat Tulis",
         "1406"
        ],
        [
         "Kesehatan",
         "1403"
        ],
        [
         "Otomotif",
         "1400"
        ],
        [
         "Hobi & Koleksi",
         "1400"
        ],
        [
         "Pakaian Wanita",
         "1365"
        ],
        [
         "Handphone & Aksesoris",
         "1300"
        ],
        [
         "Fashion Bayi & Anak",
         "1200"
        ],
        [
         "Makanan & Minuman",
         "1100"
        ],
        [
         "Pakaian Pria",
         "1086"
        ],
        [
         "Sepatu Wanita",
         "1062"
        ],
        [
         "Tas Wanita",
         "1051"
        ],
        [
         "Fashion Muslim",
         "1049"
        ],
        [
         "Tas Pria",
         "749"
        ],
        [
         "Sepatu Pria",
         "738"
        ],
        [
         "Souvenir & Party Supplies",
         "500"
        ],
        [
         "Jam Tangan",
         "500"
        ],
        [
         "Fotografi",
         "500"
        ]
       ],
       "shape": {
        "columns": 1,
        "rows": 24
       }
      },
      "text/plain": [
       "main_category\n",
       "Olahraga & Outdoor           2825\n",
       "Elektronik                   2597\n",
       "Perawatan & Kecantikan       2100\n",
       "Aksesoris Fashion            1800\n",
       "Perlengkapan Rumah           1800\n",
       "Komputer & Aksesoris         1500\n",
       "Ibu & Bayi                   1500\n",
       "Buku & Alat Tulis            1406\n",
       "Kesehatan                    1403\n",
       "Otomotif                     1400\n",
       "Hobi & Koleksi               1400\n",
       "Pakaian Wanita               1365\n",
       "Handphone & Aksesoris        1300\n",
       "Fashion Bayi & Anak          1200\n",
       "Makanan & Minuman            1100\n",
       "Pakaian Pria                 1086\n",
       "Sepatu Wanita                1062\n",
       "Tas Wanita                   1051\n",
       "Fashion Muslim               1049\n",
       "Tas Pria                      749\n",
       "Sepatu Pria                   738\n",
       "Souvenir & Party Supplies     500\n",
       "Jam Tangan                    500\n",
       "Fotografi                     500\n",
       "Name: count, dtype: int64"
      ]
     },
     "execution_count": 8,
     "metadata": {},
     "output_type": "execute_result"
    }
   ],
   "source": [
    "product_df['main_category'].value_counts()"
   ]
  },
  {
   "cell_type": "code",
   "execution_count": 9,
   "id": "b16cc43a",
   "metadata": {},
   "outputs": [],
   "source": [
    "from openai import OpenAI\n",
    "import os\n",
    "from dotenv import load_dotenv\n",
    "\n",
    "load_dotenv()\n",
    "api_key = os.getenv(\"DEEPSEEK_API_KEY\")\n",
    "\n",
    "deepseek_client = OpenAI(\n",
    "    api_key=api_key,\n",
    "    base_url=\"https://api.deepseek.com\",\n",
    ")"
   ]
  },
  {
   "cell_type": "code",
   "execution_count": 10,
   "id": "277c94db",
   "metadata": {},
   "outputs": [],
   "source": [
    "def create_description(row):\n",
    "    response = deepseek_client.chat.completions.create(\n",
    "        model=\"deepseek-chat\",\n",
    "        messages=[\n",
    "            {\n",
    "                \"role\": \"system\",\n",
    "                \"content\": (\n",
    "                    \"Tulis deskripsi produk dalam Bahasa Indonesia. Gunakan gaya bahasa e-commerce. Tanpa markdown, tanpa HTML.\"\n",
    "                )\n",
    "            },\n",
    "            {\n",
    "                \"role\": \"user\",\n",
    "                \"content\": (\n",
    "                    f\"Buat deskripsi untuk produk '{row['name']}' kategori '{row['main_category']}' sub-kategori '{row['sub_category']}'. \"\n",
    "                )\n",
    "            }\n",
    "        ],\n",
    "        stream=False\n",
    "    )\n",
    "\n",
    "    return response.choices[0].message.content.strip()"
   ]
  },
  {
   "cell_type": "code",
   "execution_count": 11,
   "id": "9341c8d7",
   "metadata": {},
   "outputs": [],
   "source": [
    "product_df['description'] = \"\""
   ]
  },
  {
   "cell_type": "code",
   "execution_count": null,
   "id": "b34676c5",
   "metadata": {},
   "outputs": [
    {
     "name": "stderr",
     "output_type": "stream",
     "text": [
      " 13%|█▎        | 4029/31931 [00:15<01:45, 264.72it/s]"
     ]
    }
   ],
   "source": [
    "import pandas as pd\n",
    "from tqdm import tqdm\n",
    "from pathlib import Path\n",
    "\n",
    "# Path to checkpoint folder\n",
    "checkpoint_dir = Path(\"desc_checkpoints\")\n",
    "checkpoint_dir.mkdir(parents=True, exist_ok=True)\n",
    "\n",
    "# Attach cached descriptions from TXT files if available\n",
    "def load_description(pid):\n",
    "    path = checkpoint_dir / f\"{pid}.txt\"\n",
    "    if path.exists():\n",
    "        return path.read_text(encoding=\"utf-8\").strip()\n",
    "    return pd.NA\n",
    "\n",
    "product_df[\"description\"] = product_df[\"product_id\"].map(load_description)\n",
    "\n",
    "# Compute only missing ones and save to individual TXT files\n",
    "for idx, row in tqdm(product_df.iterrows(), total=len(product_df)):\n",
    "    pid = row[\"product_id\"]\n",
    "    if pd.isna(row[\"description\"]):\n",
    "        desc = create_description(row)\n",
    "        product_df.at[idx, \"description\"] = desc\n",
    "\n",
    "        # Save to TXT file as cache\n",
    "        with open(checkpoint_dir / f\"{pid}.txt\", \"w\", encoding=\"utf-8\") as f:\n",
    "            f.write(desc)\n",
    "\n",
    "# Optional full CSV export\n",
    "product_df.to_csv(\"products_with_full_description.csv\", index=False)"
   ]
  },
  {
   "cell_type": "code",
   "execution_count": null,
   "id": "f04c4291",
   "metadata": {},
   "outputs": [],
   "source": [
    "import pandas as pd\n",
    "\n",
    "# Function to read .txt content by product_id\n",
    "def load_txt_description(pid):\n",
    "    path = checkpoint_dir / f\"{pid}.txt\"\n",
    "    if path.exists():\n",
    "        return path.read_text(encoding=\"utf-8\").strip()\n",
    "    return pd.NA\n",
    "\n",
    "# Map the descriptions into the DataFrame\n",
    "product_df[\"description\"] = product_df[\"product_id\"].map(load_txt_description)"
   ]
  },
  {
   "cell_type": "code",
   "execution_count": 155,
   "id": "264a1e7c",
   "metadata": {},
   "outputs": [
    {
     "data": {
      "application/vnd.microsoft.datawrangler.viewer.v0+json": {
       "columns": [
        {
         "name": "index",
         "rawType": "int64",
         "type": "integer"
        },
        {
         "name": "product_id",
         "rawType": "int64",
         "type": "integer"
        },
        {
         "name": "image",
         "rawType": "object",
         "type": "string"
        },
        {
         "name": "name",
         "rawType": "object",
         "type": "string"
        },
        {
         "name": "shop_name",
         "rawType": "object",
         "type": "string"
        },
        {
         "name": "shopid",
         "rawType": "int64",
         "type": "integer"
        },
        {
         "name": "main_category",
         "rawType": "object",
         "type": "string"
        },
        {
         "name": "sub_category",
         "rawType": "object",
         "type": "string"
        },
        {
         "name": "description",
         "rawType": "object",
         "type": "unknown"
        }
       ],
       "ref": "a04e3817-fe89-48a0-bd7c-c51fdc7cb02f",
       "rows": [
        [
         "0",
         "19941741813",
         "9cedf3c19821e83aa88a1e2f401e4e3b",
         "Plac Poles sepatu Bersih Cream Pemutih Shoes Sandal Sikat Sabun Semir Cairan Cream Penghilang Noda Kotor Cleaner Cowok Cewek",
         "rejeki007",
         "519630646",
         "Sepatu Pria",
         "Aksesoris & Perawatan Sepatu",
         "Plac Poles Sepatu Bersih Cream adalah solusi praktis untuk merawat dan membersihkan sepatu kesayanganmu. Dengan formula khusus, cream ini efektif menghilangkan noda membandan, kotoran, dan bau tak sedap pada sepatu, sandal, atau sneakers.  \n\nCocok untuk cowok dan cewek, produk ini tidak hanya membersihkan tapi juga memutihkan kembali warna sepatu yang kusam. Dilengkapi dengan sikat lembut untuk memudahkan aplikasi, Plac Poles membuat sepatumu kembali bersih dan kinclong dalam hitungan menit.  \n\nTersedia dalam bentuk cream yang mudah digunakan, cukup oleskan, gosok perlahan, dan sepatumu langsung tampak seperti baru. Tanpa bahan keras yang merusak material, aman untuk berbagai jenis sepatu kulit, kanvas, atau sintetis.  \n\nJaga penampilanmu dengan sepatu yang selalu bersih dan wangi! Plac Poles Sepatu Bersih Cream, perawatan mudah untuk sepatu kesayanganmu."
        ],
        [
         "1",
         "8609667001",
         "94b8c7d8fabca08490e1398864a7e3d7",
         "Bantalan Sepatu Depan / Insole (2pcs) - PR0015",
         "Neofelis Houseware",
         "113260191",
         "Sepatu Wanita",
         "Aksesoris & Perawatan Sepatu",
         "Bantalan Sepatu Depan / Insole (2pcs) - PR0015 adalah solusi praktis untuk kenyamanan ekstra saat mengenakan sepatu favoritmu. Terbuat dari bahan lembut dan empuk, bantalan ini membantu mengurangi gesekan dan tekanan pada bagian depan kaki, sehingga kamu bisa beraktivitas seharian tanpa rasa pegal atau lecet.  \n\nCocok untuk berbagai jenis sepatu wanita, terutama sepatu hak tinggi atau model yang cenderung sempit. Dengan ukuran yang pas dan desain tipis, bantalan ini tidak mengubah bentuk sepatu namun memberikan perlindungan maksimal. Mudah dipasang dan bisa dipindahkan ke sepatu lain sesuai kebutuhan.  \n\nDapatkan sepasang bantalan sepatu ini sekarang dan rasakan bedanya! Nyaman sepanjang hari, gaya tetap maksimal."
        ],
        [
         "2",
         "845133903",
         "882bfbef267af16d4a84624d1f33a885",
         "MKL - Saddle Shoes / Shoee Tree Catokan Sepatu Shoe Saddle",
         "jakartakinesio",
         "1317599",
         "Sepatu Pria",
         "Aksesoris & Perawatan Sepatu",
         "**MKL - Saddle Shoes / Shoee Tree Catokan Sepatu Shoe Saddle**  \n\nAksesori wajib untuk menjaga bentuk dan kualitas sepatu kesayanganmu! **MKL Saddle Shoes** adalah shoe tree atau catokan sepatu yang dirancang khusus untuk mempertahankan bentuk asli sepatu, mencegah kerutan, dan menyerap kelembapan. Cocok untuk berbagai jenis sepatu pria, terutama saddle shoes, agar tetap rapi dan awet.  \n\n**Fitur Utama:**  \n✔️ Material kayu berkualitas, tahan lama dan ramah lingkungan  \n✔️ Desain ergonomis, pas untuk berbagai ukuran sepatu  \n✔️ Menjaga bentuk sepatu tetap sempurna  \n✔️ Menyerap bau dan kelembapan, bikin sepatu selalu fresh  \n✔️ Mudah digunakan dan disimpan  \n\nJaga investasi sepatu mahalmu dengan **MKL Saddle Shoes**! Cocok untuk kolektor sepatu atau pria yang peduli penampilan. Dapatkan sekarang dan rasakan bedanya!  \n\n**#PerawatanSepatu #AksesorisSepatuPria #SepatuAwet**"
        ],
        [
         "3",
         "11448295634",
         "2d16dcd0429f2c198fd3381d17696d5b",
         "ANTI JAMUR TAS KULIT DAUN TALAS ANTI AIR, LEATHER BALSAM, CREAM TAS KULIT ANTI AIR GARAEL LEATHER BALM TANPA PEWARNA",
         "Garael Official Store",
         "526900249",
         "Sepatu Pria",
         "Aksesoris & Perawatan Sepatu",
         "**ANTI JAMUR TAS KULIT DAUN TALAS ANTI AIR, LEATHER BALSAM, CREAM TAS KULIT ANTI AIR GARAEL LEATHER BALM TANPA PEWARNA**  \n\nJaga sepatu kulit priamu tetap awet dan terlindungi dengan **Garael Leather Balm**! Formula khusus ini dirancang untuk merawat sepatu kulit, memberikan perlindungan anti air sekaligus mencegah tumbuhnya jamur. Cocok untuk semua jenis sepatu kulit, baik formal maupun casual.  \n\n**Keunggulan Produk:**  \n✔ **Anti Air** – Lapisan pelindung yang membuat sepatu tahan terhadap air dan kelembapan.  \n✔ **Anti Jamur** – Mencegah tumbuhnya jamur dan bau tak sedap pada sepatu.  \n✔ **Tanpa Pewarna** – Aman digunakan tanpa risiko meninggalkan noda pada sepatu.  \n✔ **Melembapkan Kulit** – Memberikan nutrisi agar kulit tetap lentur dan tidak mudah retak.  \n✔ **Aroma Segar** – Wangi lembut yang tidak mengganggu.  \n\nCara Pakai:  \n1. Bersihkan sepatu dari debu dan kotoran.  \n2. Oleskan secara merata dengan kain lembut atau kuas.  \n3. Diamkan beberapa saat hingga meresap sempurna.  \n\nDapatkan sepatu kulit yang selalu terlihat baru dan terlindungi dengan **Garael Leather Balm**! Tersedia dalam kemasan praktis, siap menemani perawatan sepatu kesayanganmu setiap hari.  \n\n**#PerawatanSepatu #LeatherCare #SepatuKulitAwet**"
        ],
        [
         "4",
         "12648185204",
         "25eac0de61c8e0f0821daf72fb37f8c6",
         "1 Pasang Insole Pad dan T-Shape Untuk Sepatu High Heel / Bantalan Sol Sepatu Anti Lecet Anti Kebesaran",
         "Dishdash",
         "14226667",
         "Sepatu Wanita",
         "Aksesoris & Perawatan Sepatu",
         "Bikin pakai high heels jadi lebih nyaman seharian dengan **1 Pasang Insole Pad dan T-Shape** ini! Sol sepatu khusus ini dirancang untuk mengurangi gesekan dan mencegah lecet saat pakai heels tinggi.  \n\nTerbuat dari bahan lembut dan elastis yang pas di berbagai ukuran sepatu, sol ini juga membantu mengatasi masalah sepatu kebesaran, jadi lebih nyaman dipakai tanpa khawatir tergelincir. Cocok untuk semua jenis high heels, stiletto, atau wedges.  \n\n**Fitur Utama:**  \n✔ Anti lecet & gesekan  \n✔ Bantu atasi sepatu kebesaran  \n✔ Bahan lembut dan elastis  \n✔ Mudah dipasang & dicopot  \n✔ Cocok untuk semua jenis high heels  \n\nBikin langkahmu lebih ringan dan nyaman sepanjang hari dengan insole praktis ini!"
        ],
        [
         "5",
         "2589914029",
         "id-11134207-7quky-lgqb2jbhdgoge2",
         "Tali Sepatu SEPASANG elastis karet melar NO TIE LOCK LACES",
         "dovizaazzura",
         "167113677",
         "Sepatu Wanita",
         "Aksesoris & Perawatan Sepatu",
         "Tali sepatu elastis SEPASANG yang praktis dan stylish, cocok untuk sepatu wanita!  \n\nDengan material karet melar yang nyaman, tali sepatu ini memudahkanmu memakai sepatu tanpa perlu mengikat lagi. Cukup pasang sekali, dan sepatu tetap rapi sepanjang hari.  \n\nFitur NO TIE LOCK LACES membuatnya anti lepas, sehingga kamu bebas beraktivitas tanpa khawatir tali sepatu kendur. Tersedia dalam berbagai warna yang bisa disesuaikan dengan gaya harianmu.  \n\nSolusi cepat untuk sepatu sneakers, flats, atau olahraga. Cocok juga sebagai hadiah untuk teman atau keluarga yang suka gaya simpel tapi tetap trendy!  \n\nDapatkan sekarang dan rasakan kemudahan pakai sepatu tanpa ribet!"
        ],
        [
         "6",
         "3933085850",
         "a4c8b41ce899c9cbee9274db725ff89b",
         "【GOGOMART】Panjang Swokii Insole Alas Kaki Wanita / Anti Slip Sepatu High Heels Anti Slip - 1 Pasang",
         "Gogomart Official Shop",
         "4923965",
         "Sepatu Wanita",
         "Aksesoris & Perawatan Sepatu",
         "**Panjang Swokii Insole Alas Kaki Wanita / Anti Slip Sepatu High Heels Anti Slip - 1 Pasang**  \n\nBikin sepatu high heelsmu lebih nyaman dan aman dipakai seharian dengan **Panjang Swokii Insole**! Insole ini didesain khusus untuk mengurangi gesekan dan mencegah kaki tergelincir saat berjalan, sehingga kamu bisa tampil percaya diri tanpa khawatir terpeleset.  \n\n✨ **Fitur Utama:**  \n✔ **Anti Slip** – Permukaan yang bertekstur memberikan cengkeraman maksimal, mengurangi risiko terpeleset.  \n✔ **Nyaman Sepanjang Hari** – Bahan lembut yang menopang kaki dengan sempurna, mengurangi lelah saat pakai heels.  \n✔ **Universal Size** – Cocok untuk berbagai ukuran sepatu wanita, mudah dipotong sesuai kebutuhan.  \n✔ **Tahan Lama** – Material berkualitas tinggi yang awet meski dipakai setiap hari.  \n\nCocok untuk sepatu high heels, wedges, atau bahkan flat shoes yang licin. Dapatkan kenyamanan ekstra dan gaya tanpa kompromi dengan **Panjang Swokii Insole**!  \n\n**Isi:** 1 pasang (2 buah) insole anti slip.  \n\nAyo, jangan biarkan sepatu heelsmu bikin tidak nyaman lagi – order sekarang juga! 🛒💖"
        ],
        [
         "7",
         "11637124722",
         "08a24902a17f9f4bbaab2d43d2406110",
         "KAUS KAKI WANITA BAHAN SILICON INSOLESEPATU  WANITA BAHAN  SILICON ANTI KAPALAN SOL SEPATU",
         "WINNING88",
         "349395021",
         "Sepatu Wanita",
         "Aksesoris & Perawatan Sepatu",
         "Kaus Kaki Wanita Bahan Silicon Insolesepatu - Sol Sepatu Anti Kapalan yang Nyaman!  \n\nHadir dengan bahan silicon berkualitas tinggi, kaus kaki ini dirancang khusus untuk melindungi kaki dari kapalan dan lecet saat memakai sepatu. Desainnya yang ergonomis memberikan kenyamanan maksimal sepanjang hari, cocok untuk aktivitas sehari-hari atau olahraga ringan.  \n\n✔ Bahan silicon lembut dan elastis, pas di berbagai ukuran kaki  \n✔ Sol dalam anti slip, mengurangi gesekan penyebab kapalan  \n✔ Mudah dicuci dan cepat kering, tahan lama  \n✔ Cocok dipakai dengan sepatu tertutup, heels, atau sneakers  \n\nJaga kesehatan kaki dan tingkatkan kenyamanan berjalan dengan Kaus Kaki Silicon Insolesepatu ini! Dapatkan sekarang sebelum kehabisan!"
        ],
        [
         "8",
         "15183962338",
         "d1b26cc2df637794d8a1f394d595aba7",
         "COD - Pemutih & Pembersih Sepatu & Sneakers / sikat sepatu / pembersih sandal",
         "Erawan-official store✅",
         "29523336",
         "Sepatu Pria",
         "Aksesoris & Perawatan Sepatu",
         "**COD - Pemutih & Pembersih Sepatu & Sneakers / Sikat Sepatu / Pembersih Sandal**  \n\nBikin sepatu dan sneakers kesayanganmu kinclong seperti baru lagi dengan **Pemutih & Pembersih Sepatu** ini! Cocok untuk semua jenis sepatu pria, dari bahan kanvas, kulit, hingga mesh.  \n\n✔ **Formula khusus** yang ampuh membersihkan noda membanding, debu, dan kotoran  \n✔ **Mengandung pemutih** untuk mengembalikan warna asli sepatu yang kusam  \n✔ **Dilengkapi sikat lembut** yang tidak merusak material sepatu  \n✔ **Aman digunakan** untuk sneakers, sandal, bahkan tas  \n✔ **Praktis dan cepat**, hasil bersih maksimal dalam hitungan menit  \n\nDapatkan sepatu bersih, wangi, dan tampak baru setiap hari tanpa perlu repot ke laundry sepatu. **Stok terbatas, buruan order sekarang!**  \n\n*NB: Produk ini ready COD (Cash on Delivery) untuk kenyamanan belanjamu.*"
        ],
        [
         "9",
         "16908592572",
         "98ecd7a51a98fb2e2f7f42cc0fe4ffe4",
         "SATU PASANG GEL SILICON PELINDUNG JARI KAKI DEPAN INSOLE SILICON ALAS SEPATU WANITA",
         "WINNING88",
         "349395021",
         "Sepatu Wanita",
         "Aksesoris & Perawatan Sepatu",
         "SATU PASANG GEL SILICON PELINDUNG JARI KAKI DEPAN INSOLE SILICON ALAS SEPATU WANITA  \n\nSolusi praktis untuk jari kaki yang lecet dan nyeri saat pakai sepatu! Gel silicon ini didesain khusus untuk melindungi bagian depan kaki dari gesekan dan tekanan berlebih. Cocok dipakai dengan semua jenis sepatu wanita, baik flat shoes, heels, atau sneakers.  \n\n✅ Bahan silicon lembut & elastis, nyaman dipakai seharian  \n✅ Anti slip, tidak mudah bergeser saat digunakan  \n✅ Mudah dibersihkan, bisa dipakai berulang kali  \n✅ Ukuran universal, pas untuk semua ukuran kaki  \n\nBebas rasa sakit dan lecet saat pakai sepatu favorit! Dapatkan sekarang juga dan rasakan kenyamanan maksimal di setiap langkahmu.  \n\n*Isi kemasan: 1 pasang gel silicon (kiri & kanan)*"
        ],
        [
         "10",
         "14849431398",
         "886a45db06a6c4e8d50e0359f848ba23",
         "Ujung Pengunci Tali Sepatu Metal Shoelaces Tips Head",
         "hooop",
         "36570895",
         "Sepatu Wanita",
         "Aksesoris & Perawatan Sepatu",
         "Ujung Pengunci Tali Sepatu Metal Shoelaces Tips Head adalah aksesoris sepatu yang stylish dan fungsional! Terbuat dari material metal berkualitas, ujung tali ini tidak hanya mempercantik tampilan sepatu wanita Anda, tapi juga mencegah tali sepatu lepas atau terurai.  \n\nDengan desain yang simpel dan elegan, produk ini cocok dipadukan dengan berbagai jenis sepatu, mulai dari sneakers, boots, hingga sepatu kasual. Mudah dipasang, cukup selipkan ujung tali sepatu ke dalam lubangnya dan tekan hingga terkunci. Tersedia dalam berbagai warna dan motif yang bisa disesuaikan dengan gaya fashion Anda.  \n\nJadikan sepatu Anda lebih rapi dan trendi dengan Ujung Pengunci Tali Sepatu Metal ini. Praktis, tahan lama, dan bikin penampilan semakin kece!"
        ],
        [
         "11",
         "14487206936",
         "bfe8c589eaf07ec0d9d360238dbff7c8",
         "Suumo Deodorize Penghilang Bau Sepatu Tas Lemari/ Kamper Pewangi",
         "Suumo Official Shop",
         "531403683",
         "Sepatu Wanita",
         "Aksesoris & Perawatan Sepatu",
         "Suumo Deodorize Penghilang Bau Sepatu adalah solusi praktis untuk mengatasi bau tak sedap pada sepatu, tas, dan lemari. Dengan formula khusus yang efektif menetralisir bau, produk ini membuat sepatu tetap segar sepanjang hari. Ukurannya yang kecil dan ringkas memudahkanmu membawanya ke mana saja, cocok untuk dimasukkan ke dalam tas atau saku.  \n\nAroma kamper yang menyegarkan tidak hanya menghilangkan bau tetapi juga memberikan kesan wangi yang tahan lama. Cocok untuk berbagai jenis sepatu, baik sepatu olahraga, sneakers, atau sepatu formal. Mudah digunakan, cukup letakkan di dalam sepatu atau lemari untuk perlindungan maksimal.  \n\nKeunggulan Suumo Deodorize:  \n✔ Menghilangkan bau tak sedap dengan cepat  \n✔ Aroma segar tahan lama  \n✔ Praktis dan mudah dibawa  \n✔ Aman untuk berbagai bahan sepatu  \n\nJaga kesegaran sepatumu setiap hari dengan Suumo Deodorize!"
        ],
        [
         "12",
         "13427880163",
         "e97f769423f8a0e1c4153959d1bdf458",
         "INSOLE 3D WANITA INVISIBLE ALAS SEPATU WANITA KAUS KAKI BALET KAUS KAKI INVISIBLE INSOL SEPATU EMPUK",
         "WINNING88",
         "349395021",
         "Sepatu Wanita",
         "Aksesoris & Perawatan Sepatu",
         "**INSOLE 3D WANITA INVISIBLE - Sol Sepatu Empuk & Nyaman Sepanjang Hari!**  \n\nBikin sepatu favoritmu semakin nyaman dengan **INSOLE 3D WANITA INVISIBLE**! Sol dalam ini dirancang khusus untuk memberikan kenyamanan maksimal, cocok dipakai di berbagai jenis sepatu wanita, mulai dari flatshoes, sneakers, hingga heels.  \n\n**Keunggulan Produk:**  \n✔ **Empuk & Nyaman** – Dilengkapi bantalan 3D yang lembut untuk mengurangi tekanan pada kaki saat beraktivitas.  \n✔ **Invisible Design** – Tipis dan pas di dalam sepatu, tidak terlihat dari luar sehingga tetap stylish.  \n✔ **Anti Slip** – Material berkualitas menjaga sol tetap stabil dan tidak mudah bergeser.  \n✔ **Breathable** – Bahan yang menyerap keringat, bikin kaki tetap segar seharian.  \n✔ **Universal Size** – Cocok untuk semua ukuran sepatu wanita, tinggal disesuaikan dengan menggunting bagian yang tidak diperlukan.  \n\n**Cocok Untuk:**  \n- Pengguna sepatu yang sering beraktivitas lama.  \n- Ingin menambah kenyamanan sepatu tanpa mengubah penampilan.  \n- Mencegah lecet dan iritasi pada kaki.  \n\nJangan biarkan kaki lelah dan pegal mengganggu harimu! Pakai **INSOLE 3D WANITA INVISIBLE** sekarang dan rasakan bedanya!  \n\n**Order sekarang dan dapatkan kenyamanan ekstra untuk setiap langkahmu!** 🛍️👟💖"
        ],
        [
         "13",
         "10141122499",
         "99c0c024cf88acfc8f5ce4fbbd32a745",
         "NAIN_SURYA_ASEMKA_[NEW] SEMIR SEPATU PER PCS",
         "NAIM_SURYA_ASEMKA",
         "385152853",
         "Sepatu Wanita",
         "Aksesoris & Perawatan Sepatu",
         null
        ],
        [
         "14",
         "1359217069",
         "135c3eaec58cb341a1f3a056d46b02ce",
         "PELINDUNG TUMIT BELAKANG ANTI LECET BAHAN GEL / SILIKON EMPUK",
         "SHOECARE.ID",
         "816728",
         "Sepatu Wanita",
         "Aksesoris & Perawatan Sepatu",
         null
        ],
        [
         "15",
         "3820231093",
         "ea45d9ea60957e90982f263fee7c80df",
         "Insole Alas Kaki Sepatu 12mm SOL MEMORY FOAM ORIGINAL FIT SOLE BRAND",
         "SHOECARE.ID",
         "816728",
         "Sepatu Pria",
         "Aksesoris & Perawatan Sepatu",
         null
        ],
        [
         "16",
         "4968728351",
         "c1931eef95df98eceed40f10196043ff",
         "FREE GIFT HADIAH BANTALAN SILICON UNTUK SEPATU KAUS KAKI PENDEK WANITA",
         "143 STORE",
         "317230425",
         "Sepatu Wanita",
         "Aksesoris & Perawatan Sepatu",
         null
        ],
        [
         "17",
         "13675164585",
         "482edc8d776deb978b864991f5c38844",
         "Suede Nubuck Eraser Rubber ke Sepatu, Tas  -  Penghapus Suede Eraser",
         "indoglowdark",
         "21742912",
         "Sepatu Pria",
         "Aksesoris & Perawatan Sepatu",
         null
        ],
        [
         "18",
         "7940119043",
         "171926a73c13c31a3ad680aabe86decb",
         "Sol Insole Sepatu Alas Sepatu Penambah Tinggi Badan Pria Wanita Bahan Gabus 1 Pasang",
         "venditionis_shop",
         "56879014",
         "Sepatu Pria",
         "Aksesoris & Perawatan Sepatu",
         null
        ],
        [
         "19",
         "22801430191",
         "sg-11134201-22100-78uu28ab5wiv99",
         "Cover Sarung Mantol Jas Hujan Sepatu Shoes Sandal Karet Anti Air Silikon",
         "minimeet",
         "219400191",
         "Sepatu Pria",
         "Aksesoris & Perawatan Sepatu",
         null
        ],
        [
         "20",
         "23916002188",
         "sg-11134201-23010-ewuy71ukgvlvea",
         "Tali Sepatu Elastis Lebar 8mm Buckle Lock MAGNETIC Keren Elastic Shoelace With Stylish MAGNETIC Buckle Lock",
         "SmartShopSBY",
         "251597993",
         "Sepatu Wanita",
         "Aksesoris & Perawatan Sepatu",
         null
        ],
        [
         "21",
         "16486801",
         "56079bdc14bb280fc560f155329bc382",
         "Cover Shoes FUNCOVER JUNIOR Kids Pelindung Sepatu Anak",
         "ZackyBylla motoShop",
         "2940032",
         "Sepatu Pria",
         "Aksesoris & Perawatan Sepatu",
         null
        ],
        [
         "22",
         "19249567263",
         "sg-11134201-22090-9mh6tx97mxhv1d",
         "1 pasang Insole bening tak terlihat/sol silikon peninggi badan/Insole Silicone Heel Peninggi Badan Heightening",
         "TATTOO ARTIST,",
         "527880966",
         "Sepatu Wanita",
         "Aksesoris & Perawatan Sepatu",
         null
        ],
        [
         "23",
         "22524929349",
         "id-11134207-23020-yzao10e7xlnv39",
         "[ACQ] Bantal Pelindung Tumit Anti Lecet Model Kupu-Kupu",
         "charlottequinn",
         "291384636",
         "Sepatu Wanita",
         "Aksesoris & Perawatan Sepatu",
         null
        ],
        [
         "24",
         "18171018299",
         "sg-11134201-23010-qrj8i7fs76lv1f",
         "tali sepatu pipih motif super premium",
         "firda_shop.2020",
         "290137687",
         "Sepatu Wanita",
         "Aksesoris & Perawatan Sepatu",
         null
        ],
        [
         "25",
         "6944544245",
         "73892b8179ae7f008615f8b7c958eb1f",
         "Flap Shoes Care - Pembersih Sepatu Putih & Warna 100mL",
         "Flap Shoes Care Official Shop",
         "103403120",
         "Sepatu Pria",
         "Aksesoris & Perawatan Sepatu",
         null
        ],
        [
         "26",
         "17968049340",
         "2479db3647f4446cf205765c541f8218",
         "Lem Sepatu Super Kuat Lem Voxy (100ml) Pu/Transparan/Bening Original",
         "kudikonline store",
         "772920276",
         "Sepatu Pria",
         "Aksesoris & Perawatan Sepatu",
         null
        ],
        [
         "27",
         "6015767424",
         "e27b638b7d972b21a0590f1da7a913bc",
         "Parfum sepatu Anti Bakteri  Pengharum sepatu & Penghilang Bau Sepatu 100ml",
         "undersoleyyk",
         "173438432",
         "Sepatu Pria",
         "Aksesoris & Perawatan Sepatu",
         null
        ],
        [
         "28",
         "4868675345",
         "20e0adb4c228cd956d4a5745bdbc4546",
         "Bantalan Pelindung Tumit / Insole T-shape (2pcs) - PR0014",
         "Neofelis Houseware",
         "113260191",
         "Sepatu Wanita",
         "Aksesoris & Perawatan Sepatu",
         null
        ],
        [
         "29",
         "4669804638",
         "4a82e2a0ab8a43a7bc60f7f618237c04",
         "Rain Cover Sepatu Anti Air Hujan dengan Reflektor Cahaya Rhodey H-212",
         "GoBee Official Store",
         "172285998",
         "Sepatu Pria",
         "Aksesoris & Perawatan Sepatu",
         null
        ],
        [
         "30",
         "17722082560",
         "d0e4d8a2fd9b71471f90da3b44d94ab7",
         "Jibbitz Crocs Charm / Hiasan Tempelan Crocs (Silvery B&W)",
         "Flowiestore.id",
         "11997612",
         "Sepatu Wanita",
         "Aksesoris & Perawatan Sepatu",
         null
        ],
        [
         "31",
         "7697285253",
         "c64d2454a619690d27857315edd6904f",
         "cat kulit asli warna hitam 100 ml.cat jaket kulit,cat tas kulit,cat sepatu kulit,DLL",
         "Cat jaket kulit",
         "295030207",
         "Sepatu Pria",
         "Aksesoris & Perawatan Sepatu",
         null
        ],
        [
         "32",
         "14692816381",
         "sg-11134201-22100-pb86f910cnivcc",
         "Insole Sepatu Bantalan Tempel Pelindung Tumit OSM-AS108",
         "OSM - PUSAT KAOS KAKI IMPORT",
         "572496825",
         "Sepatu Wanita",
         "Aksesoris & Perawatan Sepatu",
         null
        ],
        [
         "33",
         "7331789730",
         "bde93a1923bd56923dc9943722abbea5",
         "Tali Hoodie premium/tali sepatu import",
         "Bakul Tali",
         "70907209",
         "Sepatu Wanita",
         "Aksesoris & Perawatan Sepatu",
         null
        ],
        [
         "34",
         "18068210091",
         "sg-11134201-22120-h3872g70qykvf5",
         "Tali Sepatu Silikon Premium Elastis Free Size Dewasa Anak 16pcs Warna",
         "S3SHOP",
         "9469682",
         "Sepatu Wanita",
         "Aksesoris & Perawatan Sepatu",
         null
        ],
        [
         "35",
         "22710296856",
         "sg-11134201-22120-ywbd2i3arykv93",
         "Busa Bantalan Insole Pengganjal Sepatu High Heels Pelindung Jari Kaki",
         "S3SHOP",
         "9469682",
         "Sepatu Wanita",
         "Aksesoris & Perawatan Sepatu",
         null
        ],
        [
         "36",
         "14201468543",
         "sg-11134201-22100-dqa6cukfbniv73",
         "Arch Flat Cushion Insole Terapi Telapak Kaki Datar Kaos Kaki Sakit Kram Flat Silikon Pelindung Kain Sol Kaki Bebek Foot",
         "Rumixx",
         "92926274",
         "Sepatu Pria",
         "Aksesoris & Perawatan Sepatu",
         null
        ],
        [
         "37",
         "20313458463",
         "4970216e5781e1aab9b3018dc638898c",
         "insole alas dalam sepatu anak",
         "NUR Shop",
         "63597173",
         "Sepatu Pria",
         "Aksesoris & Perawatan Sepatu",
         null
        ],
        [
         "38",
         "8632257793",
         "07d5cf5c2ff482453270c3fcf45641b7",
         "Tali sepatu silikon sepatu anak dewasa langsung pasang bisa untuk jogging elastis",
         "serbaserbi_89",
         "178336044",
         "Sepatu Wanita",
         "Aksesoris & Perawatan Sepatu",
         null
        ],
        [
         "39",
         "6368302504",
         "ca6f493ae8110b93dd98c982bc1678cc",
         "1 Pasang Insole Gel Depan High Heels / Sol Sepatu Gel Silikon Lembut Anti Slip Anti Pegal Anti Sakit",
         "WINNING88",
         "349395021",
         "Sepatu Wanita",
         "Aksesoris & Perawatan Sepatu",
         null
        ],
        [
         "40",
         "10748065030",
         "9565c24a6b8126dfc13f32bb1d7fa9cc",
         "Bantalan  Tumit Alas Pelindung Tumit Busa bantalan Tumit anti lecet Sepasang",
         "HargaKawan",
         "83590732",
         "Sepatu Wanita",
         "Aksesoris & Perawatan Sepatu",
         null
        ],
        [
         "41",
         "21238493933",
         "sg-11134201-23020-hherxe8x29mv64",
         "Sol Insole Sepatu Alas Sepatu Penambah Tinggi Badan Pria Wanita Bahan Gabus",
         "Guangzhou Office Warehouse",
         "58955966",
         "Sepatu Pria",
         "Aksesoris & Perawatan Sepatu",
         null
        ],
        [
         "42",
         "5238686123",
         "71e12d840d82f0eaaee6b97354420a43",
         "ELIRA Sepasang Tali Sepatu Polos Pipih",
         "ELIRA Official Shop",
         "5555534",
         "Sepatu Wanita",
         "Aksesoris & Perawatan Sepatu",
         null
        ],
        [
         "43",
         "15550000437",
         "9489571165dfde09271703b36693dd5b",
         "Jarum Dan Benang Sol Sepatu",
         "toolsshop",
         "679959041",
         "Sepatu Pria",
         "Aksesoris & Perawatan Sepatu",
         null
        ],
        [
         "44",
         "22806815202",
         "sg-11134201-22110-7en5ufwjz7jv2b",
         "[ACQ] Lem Super Glue / Lem Sepatu Tahan Air Super Kuat Serbaguna",
         "charlottequinn",
         "291384636",
         "Sepatu Pria",
         "Aksesoris & Perawatan Sepatu",
         null
        ],
        [
         "45",
         "13063313135",
         "91e93ae4f15a83444bc34df3227caa1c",
         "KAUS KAKI PUTIH POLOS PRIA WANITA",
         "lapak_sneakers",
         "280756852",
         "Sepatu Wanita",
         "Aksesoris & Perawatan Sepatu",
         null
        ],
        [
         "46",
         "3779296436",
         "ab592083f9b9eeb58596e7ccde6de88f",
         "Flap Shoes Care - Standard Brush",
         "Flap Shoes Care Official Shop",
         "103403120",
         "Sepatu Pria",
         "Aksesoris & Perawatan Sepatu",
         null
        ],
        [
         "47",
         "11789262730",
         "edba4c4582bd6332cabd098a19b3994b",
         "Meningkatkan Bantalan Kaki Gel silicone / Alas Tumit / Tinggi 5 cm E507",
         "Ruibao",
         "4734162",
         "Sepatu Wanita",
         "Aksesoris & Perawatan Sepatu",
         null
        ],
        [
         "48",
         "4859129784",
         "sg-11134201-7qvee-lf22nvbmpw8m45",
         "Daymoton Shoes Cover Raven Bahan Mix PVC Size L, XL, XXL",
         "Daymoton Official Shop",
         "157184097",
         "Sepatu Pria",
         "Aksesoris & Perawatan Sepatu",
         null
        ],
        [
         "49",
         "23315390799",
         "sg-11134201-22120-esa8gul4lplv4c",
         "Tali Sepatu Bulat Cotton Shoelace PDL PDH Boots",
         "Athar Official Shop 13",
         "901597526",
         "Sepatu Wanita",
         "Aksesoris & Perawatan Sepatu",
         null
        ]
       ],
       "shape": {
        "columns": 8,
        "rows": 31931
       }
      },
      "text/html": [
       "<div>\n",
       "<style scoped>\n",
       "    .dataframe tbody tr th:only-of-type {\n",
       "        vertical-align: middle;\n",
       "    }\n",
       "\n",
       "    .dataframe tbody tr th {\n",
       "        vertical-align: top;\n",
       "    }\n",
       "\n",
       "    .dataframe thead th {\n",
       "        text-align: right;\n",
       "    }\n",
       "</style>\n",
       "<table border=\"1\" class=\"dataframe\">\n",
       "  <thead>\n",
       "    <tr style=\"text-align: right;\">\n",
       "      <th></th>\n",
       "      <th>product_id</th>\n",
       "      <th>image</th>\n",
       "      <th>name</th>\n",
       "      <th>shop_name</th>\n",
       "      <th>shopid</th>\n",
       "      <th>main_category</th>\n",
       "      <th>sub_category</th>\n",
       "      <th>description</th>\n",
       "    </tr>\n",
       "  </thead>\n",
       "  <tbody>\n",
       "    <tr>\n",
       "      <th>0</th>\n",
       "      <td>19941741813</td>\n",
       "      <td>9cedf3c19821e83aa88a1e2f401e4e3b</td>\n",
       "      <td>Plac Poles sepatu Bersih Cream Pemutih Shoes S...</td>\n",
       "      <td>rejeki007</td>\n",
       "      <td>519630646</td>\n",
       "      <td>Sepatu Pria</td>\n",
       "      <td>Aksesoris &amp; Perawatan Sepatu</td>\n",
       "      <td>Plac Poles Sepatu Bersih Cream adalah solusi p...</td>\n",
       "    </tr>\n",
       "    <tr>\n",
       "      <th>1</th>\n",
       "      <td>8609667001</td>\n",
       "      <td>94b8c7d8fabca08490e1398864a7e3d7</td>\n",
       "      <td>Bantalan Sepatu Depan / Insole (2pcs) - PR0015</td>\n",
       "      <td>Neofelis Houseware</td>\n",
       "      <td>113260191</td>\n",
       "      <td>Sepatu Wanita</td>\n",
       "      <td>Aksesoris &amp; Perawatan Sepatu</td>\n",
       "      <td>Bantalan Sepatu Depan / Insole (2pcs) - PR0015...</td>\n",
       "    </tr>\n",
       "    <tr>\n",
       "      <th>2</th>\n",
       "      <td>845133903</td>\n",
       "      <td>882bfbef267af16d4a84624d1f33a885</td>\n",
       "      <td>MKL - Saddle Shoes / Shoee Tree Catokan Sepatu...</td>\n",
       "      <td>jakartakinesio</td>\n",
       "      <td>1317599</td>\n",
       "      <td>Sepatu Pria</td>\n",
       "      <td>Aksesoris &amp; Perawatan Sepatu</td>\n",
       "      <td>**MKL - Saddle Shoes / Shoee Tree Catokan Sepa...</td>\n",
       "    </tr>\n",
       "    <tr>\n",
       "      <th>3</th>\n",
       "      <td>11448295634</td>\n",
       "      <td>2d16dcd0429f2c198fd3381d17696d5b</td>\n",
       "      <td>ANTI JAMUR TAS KULIT DAUN TALAS ANTI AIR, LEAT...</td>\n",
       "      <td>Garael Official Store</td>\n",
       "      <td>526900249</td>\n",
       "      <td>Sepatu Pria</td>\n",
       "      <td>Aksesoris &amp; Perawatan Sepatu</td>\n",
       "      <td>**ANTI JAMUR TAS KULIT DAUN TALAS ANTI AIR, LE...</td>\n",
       "    </tr>\n",
       "    <tr>\n",
       "      <th>4</th>\n",
       "      <td>12648185204</td>\n",
       "      <td>25eac0de61c8e0f0821daf72fb37f8c6</td>\n",
       "      <td>1 Pasang Insole Pad dan T-Shape Untuk Sepatu H...</td>\n",
       "      <td>Dishdash</td>\n",
       "      <td>14226667</td>\n",
       "      <td>Sepatu Wanita</td>\n",
       "      <td>Aksesoris &amp; Perawatan Sepatu</td>\n",
       "      <td>Bikin pakai high heels jadi lebih nyaman sehar...</td>\n",
       "    </tr>\n",
       "    <tr>\n",
       "      <th>...</th>\n",
       "      <td>...</td>\n",
       "      <td>...</td>\n",
       "      <td>...</td>\n",
       "      <td>...</td>\n",
       "      <td>...</td>\n",
       "      <td>...</td>\n",
       "      <td>...</td>\n",
       "      <td>...</td>\n",
       "    </tr>\n",
       "    <tr>\n",
       "      <th>31926</th>\n",
       "      <td>8319206783</td>\n",
       "      <td>sg-11134201-22110-94zj010rwdkv93</td>\n",
       "      <td>SPEEDS Resistance Bands Tali Pembantu Fitness ...</td>\n",
       "      <td>CAHAYASTORE888</td>\n",
       "      <td>235433701</td>\n",
       "      <td>Olahraga &amp; Outdoor</td>\n",
       "      <td>Yoga &amp; Pilates</td>\n",
       "      <td>&lt;NA&gt;</td>\n",
       "    </tr>\n",
       "    <tr>\n",
       "      <th>31927</th>\n",
       "      <td>18440709211</td>\n",
       "      <td>1751fd2c7a26809c474fc53ddc2fe96c</td>\n",
       "      <td>Karet Pull Up Resistance Band Fitness Gym Late...</td>\n",
       "      <td>SportMoll</td>\n",
       "      <td>446317704</td>\n",
       "      <td>Olahraga &amp; Outdoor</td>\n",
       "      <td>Yoga &amp; Pilates</td>\n",
       "      <td>&lt;NA&gt;</td>\n",
       "    </tr>\n",
       "    <tr>\n",
       "      <th>31928</th>\n",
       "      <td>21726848050</td>\n",
       "      <td>ddda4b7866950ad892e17b1a8f18f050</td>\n",
       "      <td>SPEEDS Resistance Band 1 Set Yoga Band Loop Ba...</td>\n",
       "      <td>Speedsstore</td>\n",
       "      <td>184942443</td>\n",
       "      <td>Olahraga &amp; Outdoor</td>\n",
       "      <td>Yoga &amp; Pilates</td>\n",
       "      <td>&lt;NA&gt;</td>\n",
       "    </tr>\n",
       "    <tr>\n",
       "      <th>31929</th>\n",
       "      <td>12859437106</td>\n",
       "      <td>ac1b114802405545111f57855e7e6cf4</td>\n",
       "      <td>LIGHTSPEED RESISTANCE TUBE BAND / RESISTANCE 1...</td>\n",
       "      <td>Lightspeed Official Shop</td>\n",
       "      <td>478845512</td>\n",
       "      <td>Olahraga &amp; Outdoor</td>\n",
       "      <td>Yoga &amp; Pilates</td>\n",
       "      <td>&lt;NA&gt;</td>\n",
       "    </tr>\n",
       "    <tr>\n",
       "      <th>31930</th>\n",
       "      <td>18727141338</td>\n",
       "      <td>607d4cb7ec539687ddc012ec083490f8</td>\n",
       "      <td>Matras Beladiri (1Mx1M) Matras Arena, Matras S...</td>\n",
       "      <td>Arena Mvp Store</td>\n",
       "      <td>741782107</td>\n",
       "      <td>Olahraga &amp; Outdoor</td>\n",
       "      <td>Yoga &amp; Pilates</td>\n",
       "      <td>&lt;NA&gt;</td>\n",
       "    </tr>\n",
       "  </tbody>\n",
       "</table>\n",
       "<p>31931 rows × 8 columns</p>\n",
       "</div>"
      ],
      "text/plain": [
       "        product_id                             image  \\\n",
       "0      19941741813  9cedf3c19821e83aa88a1e2f401e4e3b   \n",
       "1       8609667001  94b8c7d8fabca08490e1398864a7e3d7   \n",
       "2        845133903  882bfbef267af16d4a84624d1f33a885   \n",
       "3      11448295634  2d16dcd0429f2c198fd3381d17696d5b   \n",
       "4      12648185204  25eac0de61c8e0f0821daf72fb37f8c6   \n",
       "...            ...                               ...   \n",
       "31926   8319206783  sg-11134201-22110-94zj010rwdkv93   \n",
       "31927  18440709211  1751fd2c7a26809c474fc53ddc2fe96c   \n",
       "31928  21726848050  ddda4b7866950ad892e17b1a8f18f050   \n",
       "31929  12859437106  ac1b114802405545111f57855e7e6cf4   \n",
       "31930  18727141338  607d4cb7ec539687ddc012ec083490f8   \n",
       "\n",
       "                                                    name  \\\n",
       "0      Plac Poles sepatu Bersih Cream Pemutih Shoes S...   \n",
       "1         Bantalan Sepatu Depan / Insole (2pcs) - PR0015   \n",
       "2      MKL - Saddle Shoes / Shoee Tree Catokan Sepatu...   \n",
       "3      ANTI JAMUR TAS KULIT DAUN TALAS ANTI AIR, LEAT...   \n",
       "4      1 Pasang Insole Pad dan T-Shape Untuk Sepatu H...   \n",
       "...                                                  ...   \n",
       "31926  SPEEDS Resistance Bands Tali Pembantu Fitness ...   \n",
       "31927  Karet Pull Up Resistance Band Fitness Gym Late...   \n",
       "31928  SPEEDS Resistance Band 1 Set Yoga Band Loop Ba...   \n",
       "31929  LIGHTSPEED RESISTANCE TUBE BAND / RESISTANCE 1...   \n",
       "31930  Matras Beladiri (1Mx1M) Matras Arena, Matras S...   \n",
       "\n",
       "                      shop_name     shopid       main_category  \\\n",
       "0                     rejeki007  519630646         Sepatu Pria   \n",
       "1            Neofelis Houseware  113260191       Sepatu Wanita   \n",
       "2                jakartakinesio    1317599         Sepatu Pria   \n",
       "3         Garael Official Store  526900249         Sepatu Pria   \n",
       "4                      Dishdash   14226667       Sepatu Wanita   \n",
       "...                         ...        ...                 ...   \n",
       "31926            CAHAYASTORE888  235433701  Olahraga & Outdoor   \n",
       "31927                 SportMoll  446317704  Olahraga & Outdoor   \n",
       "31928               Speedsstore  184942443  Olahraga & Outdoor   \n",
       "31929  Lightspeed Official Shop  478845512  Olahraga & Outdoor   \n",
       "31930           Arena Mvp Store  741782107  Olahraga & Outdoor   \n",
       "\n",
       "                       sub_category  \\\n",
       "0      Aksesoris & Perawatan Sepatu   \n",
       "1      Aksesoris & Perawatan Sepatu   \n",
       "2      Aksesoris & Perawatan Sepatu   \n",
       "3      Aksesoris & Perawatan Sepatu   \n",
       "4      Aksesoris & Perawatan Sepatu   \n",
       "...                             ...   \n",
       "31926                Yoga & Pilates   \n",
       "31927                Yoga & Pilates   \n",
       "31928                Yoga & Pilates   \n",
       "31929                Yoga & Pilates   \n",
       "31930                Yoga & Pilates   \n",
       "\n",
       "                                             description  \n",
       "0      Plac Poles Sepatu Bersih Cream adalah solusi p...  \n",
       "1      Bantalan Sepatu Depan / Insole (2pcs) - PR0015...  \n",
       "2      **MKL - Saddle Shoes / Shoee Tree Catokan Sepa...  \n",
       "3      **ANTI JAMUR TAS KULIT DAUN TALAS ANTI AIR, LE...  \n",
       "4      Bikin pakai high heels jadi lebih nyaman sehar...  \n",
       "...                                                  ...  \n",
       "31926                                               <NA>  \n",
       "31927                                               <NA>  \n",
       "31928                                               <NA>  \n",
       "31929                                               <NA>  \n",
       "31930                                               <NA>  \n",
       "\n",
       "[31931 rows x 8 columns]"
      ]
     },
     "execution_count": 155,
     "metadata": {},
     "output_type": "execute_result"
    }
   ],
   "source": [
    "product_df"
   ]
  }
 ],
 "metadata": {
  "kernelspec": {
   "display_name": ".venv",
   "language": "python",
   "name": "python3"
  },
  "language_info": {
   "codemirror_mode": {
    "name": "ipython",
    "version": 3
   },
   "file_extension": ".py",
   "mimetype": "text/x-python",
   "name": "python",
   "nbconvert_exporter": "python",
   "pygments_lexer": "ipython3",
   "version": "3.12.8"
  }
 },
 "nbformat": 4,
 "nbformat_minor": 5
}
